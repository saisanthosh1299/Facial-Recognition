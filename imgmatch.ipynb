{
  "nbformat": 4,
  "nbformat_minor": 0,
  "metadata": {
    "kernelspec": {
      "display_name": "Python 3",
      "language": "python",
      "name": "python3"
    },
    "language_info": {
      "codemirror_mode": {
        "name": "ipython",
        "version": 3
      },
      "file_extension": ".py",
      "mimetype": "text/x-python",
      "name": "python",
      "nbconvert_exporter": "python",
      "pygments_lexer": "ipython3",
      "version": "3.7.6"
    },
    "colab": {
      "name": "imgmatch.ipynb",
      "provenance": [],
      "collapsed_sections": [],
      "include_colab_link": true
    },
    "accelerator": "GPU"
  },
  "cells": [
    {
      "cell_type": "markdown",
      "metadata": {
        "id": "view-in-github",
        "colab_type": "text"
      },
      "source": [
        "<a href=\"https://colab.research.google.com/github/shreyas822/Facial-Recognition/blob/master/imgmatch.ipynb\" target=\"_parent\"><img src=\"https://colab.research.google.com/assets/colab-badge.svg\" alt=\"Open In Colab\"/></a>"
      ]
    },
    {
      "cell_type": "code",
      "metadata": {
        "id": "AdMAeB-ECPy4",
        "colab_type": "code",
        "colab": {}
      },
      "source": [
        "import face_recognition as fr"
      ],
      "execution_count": null,
      "outputs": []
    },
    {
      "cell_type": "code",
      "metadata": {
        "id": "qt3_KnGwVsC6",
        "colab_type": "code",
        "colab": {
          "base_uri": "https://localhost:8080/",
          "height": 35
        },
        "outputId": "68172b82-a24e-44ca-d71d-72ab1e97e770"
      },
      "source": [
        "\n",
        "\n",
        "\n",
        "\n",
        "\n",
        "\n",
        "imagebill = fr.load_image_file('frame2.jpg')\n",
        "bill_encoding = fr.face_encodings(imagebill)[0]\n",
        "img1 = fr.load_image_file('minmg.jpg')\n",
        "img_encoding = fr.face_encodings(img1)[0]\n",
        "results = fr.compare_faces([bill_encoding],img_encoding)\n",
        "if results[0]:\n",
        "  print('matched')\n",
        "else:\n",
        "  print('not matched')"
      ],
      "execution_count": null,
      "outputs": [
        {
          "output_type": "stream",
          "text": [
            "matched\n"
          ],
          "name": "stdout"
        }
      ]
    },
    {
      "cell_type": "code",
      "metadata": {
        "id": "tnYuHmSU4-iX",
        "colab_type": "code",
        "colab": {}
      },
      "source": [
        "import face_recognition as fr"
      ],
      "execution_count": null,
      "outputs": []
    },
    {
      "cell_type": "code",
      "metadata": {
        "id": "5Q_wzBnI5FiC",
        "colab_type": "code",
        "colab": {
          "base_uri": "https://localhost:8080/",
          "height": 35
        },
        "outputId": "5d4a1c16-3e08-4ab5-9fbd-f181f50eb129"
      },
      "source": [
        "imagebill = fr.load_image_file('frame3.jpg')\n",
        "bill_encoding = fr.face_encodings(imagebill)[0]\n",
        "img1 = fr.load_image_file('minmg.jpg')\n",
        "img_encoding = fr.face_encodings(img1)[0]\n",
        "results = fr.compare_faces([bill_encoding],img_encoding)\n",
        "if results[0]:\n",
        "  print('matched')\n",
        "else:\n",
        "  print('not matched')"
      ],
      "execution_count": null,
      "outputs": [
        {
          "output_type": "stream",
          "text": [
            "matched\n"
          ],
          "name": "stdout"
        }
      ]
    },
    {
      "cell_type": "code",
      "metadata": {
        "id": "3wNfc62j6P5P",
        "colab_type": "code",
        "colab": {}
      },
      "source": [
        "import face_recognition as fr"
      ],
      "execution_count": null,
      "outputs": []
    },
    {
      "cell_type": "code",
      "metadata": {
        "id": "oDSBNI3B6TXV",
        "colab_type": "code",
        "colab": {
          "base_uri": "https://localhost:8080/",
          "height": 35
        },
        "outputId": "795c950f-a840-41ed-a462-5b8a374dcf6d"
      },
      "source": [
        "imagebill = fr.load_image_file('frame4.jpg')\n",
        "bill_encoding = fr.face_encodings(imagebill)[0]\n",
        "img1 = fr.load_image_file('minmg.jpg')\n",
        "img_encoding = fr.face_encodings(img1)[0]\n",
        "results = fr.compare_faces([bill_encoding],img_encoding)\n",
        "if results[0]:\n",
        "  print('matched')\n",
        "else:\n",
        "  print('not matched')"
      ],
      "execution_count": null,
      "outputs": [
        {
          "output_type": "stream",
          "text": [
            "matched\n"
          ],
          "name": "stdout"
        }
      ]
    },
    {
      "cell_type": "code",
      "metadata": {
        "id": "dWOQD5BB6hz5",
        "colab_type": "code",
        "colab": {}
      },
      "source": [
        "import face_recognition as fr"
      ],
      "execution_count": null,
      "outputs": []
    },
    {
      "cell_type": "code",
      "metadata": {
        "id": "8o94RUAQ6lfs",
        "colab_type": "code",
        "colab": {
          "base_uri": "https://localhost:8080/",
          "height": 35
        },
        "outputId": "af46e9e2-4554-4c1a-e0e5-929635400bd5"
      },
      "source": [
        "imagebill = fr.load_image_file('frame5.jpg')\n",
        "bill_encoding = fr.face_encodings(imagebill)[0]\n",
        "img1 = fr.load_image_file('minmg.jpg')\n",
        "img_encoding = fr.face_encodings(img1)[0]\n",
        "results = fr.compare_faces([bill_encoding],img_encoding)\n",
        "if results[0]:\n",
        "  print('matched')\n",
        "else:\n",
        "  print('not matched')\n"
      ],
      "execution_count": null,
      "outputs": [
        {
          "output_type": "stream",
          "text": [
            "matched\n"
          ],
          "name": "stdout"
        }
      ]
    },
    {
      "cell_type": "code",
      "metadata": {
        "id": "72qa-uJN7eqa",
        "colab_type": "code",
        "colab": {}
      },
      "source": [
        "import face_recognition as fr"
      ],
      "execution_count": null,
      "outputs": []
    },
    {
      "cell_type": "code",
      "metadata": {
        "id": "5SvIblD77jJw",
        "colab_type": "code",
        "colab": {
          "base_uri": "https://localhost:8080/",
          "height": 35
        },
        "outputId": "b030b319-7555-4f54-b768-2cc8046996ce"
      },
      "source": [
        "imagebill = fr.load_image_file('frame6.jpg')\n",
        "bill_encoding = fr.face_encodings(imagebill)[0]\n",
        "img1 = fr.load_image_file('minmg.jpg')\n",
        "img_encoding = fr.face_encodings(img1)[0]\n",
        "results = fr.compare_faces([bill_encoding],img_encoding)\n",
        "if results[0]:\n",
        "  print('matched')\n",
        "else:\n",
        "  print('not matched')"
      ],
      "execution_count": null,
      "outputs": [
        {
          "output_type": "stream",
          "text": [
            "matched\n"
          ],
          "name": "stdout"
        }
      ]
    },
    {
      "cell_type": "code",
      "metadata": {
        "id": "S72oi5Ki8hVl",
        "colab_type": "code",
        "colab": {}
      },
      "source": [
        "import face_recognition as fr"
      ],
      "execution_count": null,
      "outputs": []
    },
    {
      "cell_type": "code",
      "metadata": {
        "id": "NuTYXrv68lpX",
        "colab_type": "code",
        "colab": {
          "base_uri": "https://localhost:8080/",
          "height": 35
        },
        "outputId": "c29e7ae8-7ce2-475f-8597-f3975586f505"
      },
      "source": [
        "imagebill = fr.load_image_file('frame7.jpg')\n",
        "bill_encoding = fr.face_encodings(imagebill)[0]\n",
        "img1 = fr.load_image_file('minmg.jpg')\n",
        "img_encoding = fr.face_encodings(img1)[0]\n",
        "results = fr.compare_faces([bill_encoding],img_encoding)\n",
        "if results[0]:\n",
        "  print('matched')\n",
        "else:\n",
        "  print('not matched')"
      ],
      "execution_count": null,
      "outputs": [
        {
          "output_type": "stream",
          "text": [
            "matched\n"
          ],
          "name": "stdout"
        }
      ]
    },
    {
      "cell_type": "code",
      "metadata": {
        "id": "jd3sQtn_8_lR",
        "colab_type": "code",
        "colab": {}
      },
      "source": [
        "import face_recognition as fr"
      ],
      "execution_count": null,
      "outputs": []
    },
    {
      "cell_type": "code",
      "metadata": {
        "id": "jJ5kqRqC9CDa",
        "colab_type": "code",
        "colab": {
          "base_uri": "https://localhost:8080/",
          "height": 35
        },
        "outputId": "ee436281-8bce-4a52-d84b-c7fb9a686815"
      },
      "source": [
        "imagebill = fr.load_image_file('frame8.jpg')\n",
        "bill_encoding = fr.face_encodings(imagebill)[0]\n",
        "img1 = fr.load_image_file('minmg.jpg')\n",
        "img_encoding = fr.face_encodings(img1)[0]\n",
        "results = fr.compare_faces([bill_encoding],img_encoding)\n",
        "if results[0]:\n",
        "  print('matched')\n",
        "else:\n",
        "  print('not matched')"
      ],
      "execution_count": null,
      "outputs": [
        {
          "output_type": "stream",
          "text": [
            "matched\n"
          ],
          "name": "stdout"
        }
      ]
    },
    {
      "cell_type": "code",
      "metadata": {
        "id": "Rvu1sYukBVCw",
        "colab_type": "code",
        "colab": {}
      },
      "source": [
        "import face_recognition as fr"
      ],
      "execution_count": null,
      "outputs": []
    },
    {
      "cell_type": "code",
      "metadata": {
        "id": "tEf4Q_zZBYi7",
        "colab_type": "code",
        "colab": {
          "base_uri": "https://localhost:8080/",
          "height": 35
        },
        "outputId": "58e0bef4-fecf-4217-b7e5-66197c43a81b"
      },
      "source": [
        "imagebill = fr.load_image_file('frame9.jpg')\n",
        "bill_encoding = fr.face_encodings(imagebill)[0]\n",
        "img1 = fr.load_image_file('minmg.jpg')\n",
        "img_encoding = fr.face_encodings(img1)[0]\n",
        "results = fr.compare_faces([bill_encoding],img_encoding)\n",
        "if results[0]:\n",
        "  print('matched')\n",
        "else:\n",
        "  print('not matched')"
      ],
      "execution_count": null,
      "outputs": [
        {
          "output_type": "stream",
          "text": [
            "matched\n"
          ],
          "name": "stdout"
        }
      ]
    },
    {
      "cell_type": "code",
      "metadata": {
        "id": "-kCBvwKuD8Yb",
        "colab_type": "code",
        "colab": {}
      },
      "source": [
        "import face_recognition as fr"
      ],
      "execution_count": null,
      "outputs": []
    },
    {
      "cell_type": "code",
      "metadata": {
        "id": "2aVM-4c1D_hU",
        "colab_type": "code",
        "colab": {
          "base_uri": "https://localhost:8080/",
          "height": 35
        },
        "outputId": "5a571639-5aad-4a69-9aa9-c3926007548a"
      },
      "source": [
        "imagebill = fr.load_image_file('frame10.jpg')\n",
        "bill_encoding = fr.face_encodings(imagebill)[0]\n",
        "img1 = fr.load_image_file('minmg.jpg')\n",
        "img_encoding = fr.face_encodings(img1)[0]\n",
        "results = fr.compare_faces([bill_encoding],img_encoding)\n",
        "if results[0]:\n",
        "  print('matched')\n",
        "else:\n",
        "  print('not matched')"
      ],
      "execution_count": null,
      "outputs": [
        {
          "output_type": "stream",
          "text": [
            "matched\n"
          ],
          "name": "stdout"
        }
      ]
    },
    {
      "cell_type": "code",
      "metadata": {
        "id": "TspI9tN52V6U",
        "colab_type": "code",
        "colab": {}
      },
      "source": [
        "import PIL\n",
        "from PIL import Image"
      ],
      "execution_count": null,
      "outputs": []
    },
    {
      "cell_type": "code",
      "metadata": {
        "id": "K80iCuO14CGC",
        "colab_type": "code",
        "colab": {}
      },
      "source": [
        ""
      ],
      "execution_count": null,
      "outputs": []
    },
    {
      "cell_type": "code",
      "metadata": {
        "id": "MYJ4g-Un3Qhm",
        "colab_type": "code",
        "colab": {
          "base_uri": "https://localhost:8080/",
          "height": 193
        },
        "outputId": "7303fb18-1257-469a-ebca-24508cf25c87"
      },
      "source": [
        "!pip install matplotlib-venn"
      ],
      "execution_count": null,
      "outputs": [
        {
          "output_type": "stream",
          "text": [
            "Requirement already satisfied: matplotlib-venn in /usr/local/lib/python3.6/dist-packages (0.11.5)\n",
            "Requirement already satisfied: scipy in /usr/local/lib/python3.6/dist-packages (from matplotlib-venn) (1.4.1)\n",
            "Requirement already satisfied: numpy in /usr/local/lib/python3.6/dist-packages (from matplotlib-venn) (1.18.5)\n",
            "Requirement already satisfied: matplotlib in /usr/local/lib/python3.6/dist-packages (from matplotlib-venn) (3.2.2)\n",
            "Requirement already satisfied: pyparsing!=2.0.4,!=2.1.2,!=2.1.6,>=2.0.1 in /usr/local/lib/python3.6/dist-packages (from matplotlib->matplotlib-venn) (2.4.7)\n",
            "Requirement already satisfied: cycler>=0.10 in /usr/local/lib/python3.6/dist-packages (from matplotlib->matplotlib-venn) (0.10.0)\n",
            "Requirement already satisfied: kiwisolver>=1.0.1 in /usr/local/lib/python3.6/dist-packages (from matplotlib->matplotlib-venn) (1.2.0)\n",
            "Requirement already satisfied: python-dateutil>=2.1 in /usr/local/lib/python3.6/dist-packages (from matplotlib->matplotlib-venn) (2.8.1)\n",
            "Requirement already satisfied: six in /usr/local/lib/python3.6/dist-packages (from cycler>=0.10->matplotlib->matplotlib-venn) (1.12.0)\n"
          ],
          "name": "stdout"
        }
      ]
    },
    {
      "cell_type": "code",
      "metadata": {
        "id": "ZejIi7NM3Tcd",
        "colab_type": "code",
        "colab": {}
      },
      "source": [
        ""
      ],
      "execution_count": null,
      "outputs": []
    },
    {
      "cell_type": "code",
      "metadata": {
        "id": "Pa53dHTl3ehv",
        "colab_type": "code",
        "colab": {
          "base_uri": "https://localhost:8080/",
          "height": 87
        },
        "outputId": "736372e9-ef5a-4008-d6ba-0df7f4df6910"
      },
      "source": [
        "!apt-get  install Image"
      ],
      "execution_count": null,
      "outputs": [
        {
          "output_type": "stream",
          "text": [
            "Reading package lists... Done\n",
            "Building dependency tree       \n",
            "Reading state information... Done\n",
            "E: Unable to locate package Image\n"
          ],
          "name": "stdout"
        }
      ]
    },
    {
      "cell_type": "code",
      "metadata": {
        "id": "VjYgRL0n20OL",
        "colab_type": "code",
        "colab": {
          "base_uri": "https://localhost:8080/",
          "height": 139
        },
        "outputId": "6933f8b8-23c1-439a-844a-18151b4dd949"
      },
      "source": [
        "!pip install Image"
      ],
      "execution_count": null,
      "outputs": [
        {
          "output_type": "stream",
          "text": [
            "Requirement already satisfied: Image in /usr/local/lib/python3.6/dist-packages (1.5.32)\n",
            "Requirement already satisfied: django in /usr/local/lib/python3.6/dist-packages (from Image) (3.0.7)\n",
            "Requirement already satisfied: six in /usr/local/lib/python3.6/dist-packages (from Image) (1.12.0)\n",
            "Requirement already satisfied: pillow in /usr/local/lib/python3.6/dist-packages (from Image) (7.0.0)\n",
            "Requirement already satisfied: asgiref~=3.2 in /usr/local/lib/python3.6/dist-packages (from django->Image) (3.2.10)\n",
            "Requirement already satisfied: sqlparse>=0.2.2 in /usr/local/lib/python3.6/dist-packages (from django->Image) (0.3.1)\n",
            "Requirement already satisfied: pytz in /usr/local/lib/python3.6/dist-packages (from django->Image) (2018.9)\n"
          ],
          "name": "stdout"
        }
      ]
    },
    {
      "cell_type": "code",
      "metadata": {
        "id": "gD5TQtt7V-6U",
        "colab_type": "code",
        "colab": {
          "base_uri": "https://localhost:8080/",
          "height": 315
        },
        "outputId": "881db7ef-9474-4265-f1d7-904585110cc1"
      },
      "source": [
        "!pip install face_recognition"
      ],
      "execution_count": null,
      "outputs": [
        {
          "output_type": "stream",
          "text": [
            "Collecting face_recognition\n",
            "  Downloading https://files.pythonhosted.org/packages/1e/95/f6c9330f54ab07bfa032bf3715c12455a381083125d8880c43cbe76bb3d0/face_recognition-1.3.0-py2.py3-none-any.whl\n",
            "Requirement already satisfied: Pillow in /usr/local/lib/python3.6/dist-packages (from face_recognition) (7.0.0)\n",
            "Requirement already satisfied: Click>=6.0 in /usr/local/lib/python3.6/dist-packages (from face_recognition) (7.1.2)\n",
            "Requirement already satisfied: numpy in /usr/local/lib/python3.6/dist-packages (from face_recognition) (1.18.5)\n",
            "Collecting face-recognition-models>=0.3.0\n",
            "\u001b[?25l  Downloading https://files.pythonhosted.org/packages/cf/3b/4fd8c534f6c0d1b80ce0973d01331525538045084c73c153ee6df20224cf/face_recognition_models-0.3.0.tar.gz (100.1MB)\n",
            "\u001b[K     |████████████████████████████████| 100.2MB 112kB/s \n",
            "\u001b[?25hRequirement already satisfied: dlib>=19.7 in /usr/local/lib/python3.6/dist-packages (from face_recognition) (19.18.0)\n",
            "Building wheels for collected packages: face-recognition-models\n",
            "  Building wheel for face-recognition-models (setup.py) ... \u001b[?25l\u001b[?25hdone\n",
            "  Created wheel for face-recognition-models: filename=face_recognition_models-0.3.0-py2.py3-none-any.whl size=100566172 sha256=b0eaa044064856e17525317e2c42196709a9fa4b8e7915e979f975e27a257620\n",
            "  Stored in directory: /root/.cache/pip/wheels/d2/99/18/59c6c8f01e39810415c0e63f5bede7d83dfb0ffc039865465f\n",
            "Successfully built face-recognition-models\n",
            "Installing collected packages: face-recognition-models, face-recognition\n",
            "Successfully installed face-recognition-1.3.0 face-recognition-models-0.3.0\n"
          ],
          "name": "stdout"
        }
      ]
    }
  ]
}