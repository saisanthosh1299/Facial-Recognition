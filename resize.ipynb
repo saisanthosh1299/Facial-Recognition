{
 "cells": [
  {
   "cell_type": "code",
   "execution_count": 1,
   "metadata": {},
   "outputs": [
    {
     "name": "stdout",
     "output_type": "stream",
     "text": [
      "Original Dimensions :  (988, 1920)\n",
      "Original Dimensions :  (664, 702)\n",
      "Resized Dimensions :  (702, 664)\n",
      "Resized Dimensions :  (702, 664)\n"
     ]
    }
   ],
   "source": [
    "\n",
    "import cv2\n",
    " \n",
    "img = cv2.imread('frame1.jpg', 0)\n",
    "img1 = cv2.imread('minimg.jpg', 0)\n",
    "print('Original Dimensions : ',img.shape)\n",
    "print('Original Dimensions : ',img1.shape)\n",
    "\n",
    "width = 664\n",
    "\n",
    "height = 702\n",
    "dim = (width, height)\n",
    "# resize image\n",
    "resized = cv2.resize(img, dim, interpolation = cv2.INTER_AREA)\n",
    "print('Resized Dimensions : ',resized.shape)\n",
    "width1 = 664\n",
    "\n",
    "height1 = 702\n",
    "dim1 = (width1, height1)\n",
    "resized1 = cv2.resize(img1, dim1, interpolation = cv2.INTER_AREA)\n",
    "print('Resized Dimensions : ',resized1.shape)\n",
    "\n",
    "cv2.imshow(\"Resized image\", resized)\n",
    "cv2.imshow(\"Resized image1\", resized1)\n",
    "cv2.waitKey(0)\n",
    "cv2.destroyAllWindows()"
   ]
  },
  {
   "cell_type": "code",
   "execution_count": 2,
   "metadata": {},
   "outputs": [
    {
     "name": "stdout",
     "output_type": "stream",
     "text": [
      "Original Dimensions :  (988, 1920)\n",
      "Original Dimensions :  (664, 702)\n",
      "Resized Dimensions :  (702, 664)\n",
      "Resized Dimensions :  (702, 664)\n"
     ]
    }
   ],
   "source": [
    "\n",
    "import cv2\n",
    " \n",
    "img = cv2.imread('frame2.jpg', 0)\n",
    "img1 = cv2.imread('minimg.jpg', 0)\n",
    "print('Original Dimensions : ',img.shape)\n",
    "print('Original Dimensions : ',img1.shape)\n",
    "\n",
    "width = 664\n",
    "\n",
    "height = 702\n",
    "dim = (width, height)\n",
    "# resize image\n",
    "resized = cv2.resize(img, dim, interpolation = cv2.INTER_AREA)\n",
    "print('Resized Dimensions : ',resized.shape)\n",
    "width1 = 664\n",
    "\n",
    "height1 = 702\n",
    "dim1 = (width1, height1)\n",
    "resized1 = cv2.resize(img1, dim1, interpolation = cv2.INTER_AREA)\n",
    "print('Resized Dimensions : ',resized1.shape)\n",
    "\n",
    "cv2.imshow(\"Resized image\", resized)\n",
    "cv2.imshow(\"Resized image1\", resized1)\n",
    "cv2.waitKey(0)\n",
    "cv2.destroyAllWindows()"
   ]
  },
  {
   "cell_type": "code",
   "execution_count": 3,
   "metadata": {},
   "outputs": [
    {
     "name": "stdout",
     "output_type": "stream",
     "text": [
      "Original Dimensions :  (988, 1920)\n",
      "Original Dimensions :  (664, 702)\n",
      "Resized Dimensions :  (702, 664)\n",
      "Resized Dimensions :  (702, 664)\n"
     ]
    }
   ],
   "source": [
    "import cv2\n",
    " \n",
    "img = cv2.imread('frame3.jpg', 0)\n",
    "img1 = cv2.imread('minimg.jpg', 0)\n",
    "print('Original Dimensions : ',img.shape)\n",
    "print('Original Dimensions : ',img1.shape)\n",
    "\n",
    "width = 664\n",
    "\n",
    "height = 702\n",
    "dim = (width, height)\n",
    "# resize image\n",
    "resized = cv2.resize(img, dim, interpolation = cv2.INTER_AREA)\n",
    "print('Resized Dimensions : ',resized.shape)\n",
    "width1 = 664\n",
    "\n",
    "height1 = 702\n",
    "dim1 = (width1, height1)\n",
    "resized1 = cv2.resize(img1, dim1, interpolation = cv2.INTER_AREA)\n",
    "print('Resized Dimensions : ',resized1.shape)\n",
    "\n",
    "cv2.imshow(\"Resized image\", resized)\n",
    "cv2.imshow(\"Resized image1\", resized1)\n",
    "cv2.waitKey(0)\n",
    "cv2.destroyAllWindows()"
   ]
  },
  {
   "cell_type": "code",
   "execution_count": 4,
   "metadata": {},
   "outputs": [
    {
     "name": "stdout",
     "output_type": "stream",
     "text": [
      "Original Dimensions :  (988, 1920)\n",
      "Original Dimensions :  (664, 702)\n",
      "Resized Dimensions :  (702, 664)\n",
      "Resized Dimensions :  (702, 664)\n"
     ]
    }
   ],
   "source": [
    "import cv2\n",
    " \n",
    "img = cv2.imread('frame4.jpg', 0)\n",
    "img1 = cv2.imread('minimg.jpg', 0)\n",
    "print('Original Dimensions : ',img.shape)\n",
    "print('Original Dimensions : ',img1.shape)\n",
    "\n",
    "width = 664\n",
    "\n",
    "height = 702\n",
    "dim = (width, height)\n",
    "# resize image\n",
    "resized = cv2.resize(img, dim, interpolation = cv2.INTER_AREA)\n",
    "print('Resized Dimensions : ',resized.shape)\n",
    "width1 = 664\n",
    "\n",
    "height1 = 702\n",
    "dim1 = (width1, height1)\n",
    "resized1 = cv2.resize(img1, dim1, interpolation = cv2.INTER_AREA)\n",
    "print('Resized Dimensions : ',resized1.shape)\n",
    "\n",
    "cv2.imshow(\"Resized image\", resized)\n",
    "cv2.imshow(\"Resized image1\", resized1)\n",
    "cv2.waitKey(0)\n",
    "cv2.destroyAllWindows()"
   ]
  },
  {
   "cell_type": "code",
   "execution_count": 7,
   "metadata": {},
   "outputs": [
    {
     "name": "stdout",
     "output_type": "stream",
     "text": [
      "Original Dimensions :  (988, 1920)\n",
      "Original Dimensions :  (664, 702)\n",
      "Resized Dimensions :  (702, 664)\n",
      "Resized Dimensions :  (702, 664)\n"
     ]
    }
   ],
   "source": [
    "import cv2\n",
    " \n",
    "img = cv2.imread('frame5.jpg', 0)\n",
    "img1 = cv2.imread('minimg.jpg', 0)\n",
    "print('Original Dimensions : ',img.shape)\n",
    "print('Original Dimensions : ',img1.shape)\n",
    "\n",
    "width = 664\n",
    "\n",
    "height = 702\n",
    "dim = (width, height)\n",
    "# resize image\n",
    "resized = cv2.resize(img, dim, interpolation = cv2.INTER_AREA)\n",
    "print('Resized Dimensions : ',resized.shape)\n",
    "width1 = 664\n",
    "\n",
    "height1 = 702\n",
    "dim1 = (width1, height1)\n",
    "resized1 = cv2.resize(img1, dim1, interpolation = cv2.INTER_AREA)\n",
    "print('Resized Dimensions : ',resized1.shape)\n",
    "\n",
    "cv2.imshow(\"Resized image\", resized)\n",
    "cv2.imshow(\"Resized image1\", resized1)\n",
    "cv2.waitKey(0)\n",
    "cv2.destroyAllWindows()"
   ]
  },
  {
   "cell_type": "code",
   "execution_count": 8,
   "metadata": {},
   "outputs": [
    {
     "name": "stdout",
     "output_type": "stream",
     "text": [
      "Original Dimensions :  (988, 1920)\n",
      "Original Dimensions :  (664, 702)\n",
      "Resized Dimensions :  (702, 664)\n",
      "Resized Dimensions :  (702, 664)\n"
     ]
    }
   ],
   "source": [
    "import cv2\n",
    " \n",
    "img = cv2.imread('frame6.jpg', 0)\n",
    "img1 = cv2.imread('minimg.jpg', 0)\n",
    "print('Original Dimensions : ',img.shape)\n",
    "print('Original Dimensions : ',img1.shape)\n",
    "\n",
    "width = 664\n",
    "\n",
    "height = 702\n",
    "dim = (width, height)\n",
    "# resize image\n",
    "resized = cv2.resize(img, dim, interpolation = cv2.INTER_AREA)\n",
    "print('Resized Dimensions : ',resized.shape)\n",
    "width1 = 664\n",
    "\n",
    "height1 = 702\n",
    "dim1 = (width1, height1)\n",
    "resized1 = cv2.resize(img1, dim1, interpolation = cv2.INTER_AREA)\n",
    "print('Resized Dimensions : ',resized1.shape)\n",
    "\n",
    "cv2.imshow(\"Resized image\", resized)\n",
    "cv2.imshow(\"Resized image1\", resized1)\n",
    "cv2.waitKey(0)\n",
    "cv2.destroyAllWindows()"
   ]
  },
  {
   "cell_type": "code",
   "execution_count": 9,
   "metadata": {},
   "outputs": [
    {
     "name": "stdout",
     "output_type": "stream",
     "text": [
      "Original Dimensions :  (988, 1920)\n",
      "Original Dimensions :  (664, 702)\n",
      "Resized Dimensions :  (702, 664)\n",
      "Resized Dimensions :  (702, 664)\n"
     ]
    }
   ],
   "source": [
    "import cv2\n",
    " \n",
    "img = cv2.imread('frame7.jpg', 0)\n",
    "img1 = cv2.imread('minimg.jpg', 0)\n",
    "print('Original Dimensions : ',img.shape)\n",
    "print('Original Dimensions : ',img1.shape)\n",
    "\n",
    "width = 664\n",
    "\n",
    "height = 702\n",
    "dim = (width, height)\n",
    "# resize image\n",
    "resized = cv2.resize(img, dim, interpolation = cv2.INTER_AREA)\n",
    "print('Resized Dimensions : ',resized.shape)\n",
    "width1 = 664\n",
    "\n",
    "height1 = 702\n",
    "dim1 = (width1, height1)\n",
    "resized1 = cv2.resize(img1, dim1, interpolation = cv2.INTER_AREA)\n",
    "print('Resized Dimensions : ',resized1.shape)\n",
    "\n",
    "cv2.imshow(\"Resized image\", resized)\n",
    "cv2.imshow(\"Resized image1\", resized1)\n",
    "cv2.waitKey(0)\n",
    "cv2.destroyAllWindows()"
   ]
  },
  {
   "cell_type": "code",
   "execution_count": 10,
   "metadata": {},
   "outputs": [
    {
     "name": "stdout",
     "output_type": "stream",
     "text": [
      "Original Dimensions :  (988, 1920)\n",
      "Original Dimensions :  (664, 702)\n",
      "Resized Dimensions :  (702, 664)\n",
      "Resized Dimensions :  (702, 664)\n"
     ]
    }
   ],
   "source": [
    "import cv2\n",
    " \n",
    "img = cv2.imread('frame8.jpg', 0)\n",
    "img1 = cv2.imread('minimg.jpg', 0)\n",
    "print('Original Dimensions : ',img.shape)\n",
    "print('Original Dimensions : ',img1.shape)\n",
    "\n",
    "width = 664\n",
    "\n",
    "height = 702\n",
    "dim = (width, height)\n",
    "# resize image\n",
    "resized = cv2.resize(img, dim, interpolation = cv2.INTER_AREA)\n",
    "print('Resized Dimensions : ',resized.shape)\n",
    "width1 = 664\n",
    "\n",
    "height1 = 702\n",
    "dim1 = (width1, height1)\n",
    "resized1 = cv2.resize(img1, dim1, interpolation = cv2.INTER_AREA)\n",
    "print('Resized Dimensions : ',resized1.shape)\n",
    "\n",
    "cv2.imshow(\"Resized image\", resized)\n",
    "cv2.imshow(\"Resized image1\", resized1)\n",
    "cv2.waitKey(0)\n",
    "cv2.destroyAllWindows()"
   ]
  },
  {
   "cell_type": "code",
   "execution_count": 11,
   "metadata": {},
   "outputs": [
    {
     "name": "stdout",
     "output_type": "stream",
     "text": [
      "Original Dimensions :  (988, 1920)\n",
      "Original Dimensions :  (664, 702)\n",
      "Resized Dimensions :  (702, 664)\n",
      "Resized Dimensions :  (702, 664)\n"
     ]
    }
   ],
   "source": [
    "import cv2\n",
    " \n",
    "img = cv2.imread('frame9.jpg', 0)\n",
    "img1 = cv2.imread('minimg.jpg', 0)\n",
    "print('Original Dimensions : ',img.shape)\n",
    "print('Original Dimensions : ',img1.shape)\n",
    "\n",
    "width = 664\n",
    "\n",
    "height = 702\n",
    "dim = (width, height)\n",
    "# resize image\n",
    "resized = cv2.resize(img, dim, interpolation = cv2.INTER_AREA)\n",
    "print('Resized Dimensions : ',resized.shape)\n",
    "width1 = 664\n",
    "\n",
    "height1 = 702\n",
    "dim1 = (width1, height1)\n",
    "resized1 = cv2.resize(img1, dim1, interpolation = cv2.INTER_AREA)\n",
    "print('Resized Dimensions : ',resized1.shape)\n",
    "\n",
    "cv2.imshow(\"Resized image\", resized)\n",
    "cv2.imshow(\"Resized image1\", resized1)\n",
    "cv2.waitKey(0)\n",
    "cv2.destroyAllWindows()"
   ]
  },
  {
   "cell_type": "code",
   "execution_count": null,
   "metadata": {},
   "outputs": [],
   "source": [
    "# import cv2\n",
    " \n",
    "img = cv2.imread('frame10.jpg', 0)\n",
    "img1 = cv2.imread('minimg.jpg', 0)\n",
    "print('Original Dimensions : ',img.shape)\n",
    "print('Original Dimensions : ',img1.shape)\n",
    "\n",
    "width = 664\n",
    "\n",
    "height = 702\n",
    "dim = (width, height)\n",
    "# resize image\n",
    "resized = cv2.resize(img, dim, interpolation = cv2.INTER_AREA)\n",
    "print('Resized Dimensions : ',resized.shape)\n",
    "width1 = 664\n",
    "\n",
    "height1 = 702\n",
    "dim1 = (width1, height1)\n",
    "resized1 = cv2.resize(img1, dim1, interpolation = cv2.INTER_AREA)\n",
    "print('Resized Dimensions : ',resized1.shape)\n",
    "\n",
    "cv2.imshow(\"Resized image\", resized)\n",
    "cv2.imshow(\"Resized image1\", resized1)\n",
    "cv2.waitKey(0)\n",
    "cv2.destroyAllWindows()"
   ]
  },
  {
   "cell_type": "code",
   "execution_count": 15,
   "metadata": {},
   "outputs": [
    {
     "ename": "AttributeError",
     "evalue": "module 'cv2.cv2' has no attribute 'imfilter'",
     "output_type": "error",
     "traceback": [
      "\u001b[1;31m---------------------------------------------------------------------------\u001b[0m",
      "\u001b[1;31mAttributeError\u001b[0m                            Traceback (most recent call last)",
      "\u001b[1;32m<ipython-input-15-46b18ef68414>\u001b[0m in \u001b[0;36m<module>\u001b[1;34m\u001b[0m\n\u001b[0;32m      1\u001b[0m \u001b[1;32mimport\u001b[0m \u001b[0mcv2\u001b[0m\u001b[1;33m\u001b[0m\u001b[1;33m\u001b[0m\u001b[0m\n\u001b[0;32m      2\u001b[0m \u001b[0mimg\u001b[0m \u001b[1;33m=\u001b[0m \u001b[0mcv2\u001b[0m\u001b[1;33m.\u001b[0m\u001b[0mimread\u001b[0m\u001b[1;33m(\u001b[0m\u001b[1;34m'frame1.jpg'\u001b[0m\u001b[1;33m,\u001b[0m\u001b[1;36m0\u001b[0m\u001b[1;33m)\u001b[0m\u001b[1;33m;\u001b[0m\u001b[1;33m\u001b[0m\u001b[1;33m\u001b[0m\u001b[0m\n\u001b[1;32m----> 3\u001b[1;33m \u001b[0mdiffImage\u001b[0m \u001b[1;33m=\u001b[0m \u001b[0mcv2\u001b[0m\u001b[1;33m.\u001b[0m\u001b[0mimfilter\u001b[0m\u001b[1;33m(\u001b[0m\u001b[0mimg\u001b[0m\u001b[1;33m,\u001b[0m \u001b[1;33m[\u001b[0m\u001b[1;36m1\u001b[0m\u001b[1;33m,\u001b[0m \u001b[1;33m-\u001b[0m\u001b[1;36m1\u001b[0m\u001b[1;33m]\u001b[0m\u001b[1;33m)\u001b[0m\u001b[1;33m;\u001b[0m\u001b[1;33m\u001b[0m\u001b[1;33m\u001b[0m\u001b[0m\n\u001b[0m\u001b[0;32m      4\u001b[0m \u001b[0mimshow\u001b[0m\u001b[1;33m(\u001b[0m\u001b[0mdiffImage\u001b[0m\u001b[1;33m,\u001b[0m \u001b[1;33m[\u001b[0m\u001b[1;33m]\u001b[0m\u001b[1;33m)\u001b[0m\u001b[1;33m\u001b[0m\u001b[1;33m\u001b[0m\u001b[0m\n\u001b[0;32m      5\u001b[0m \u001b[0mcv2\u001b[0m\u001b[1;33m.\u001b[0m\u001b[0mwaitKey\u001b[0m\u001b[1;33m(\u001b[0m\u001b[1;36m0\u001b[0m\u001b[1;33m)\u001b[0m\u001b[1;33m\u001b[0m\u001b[1;33m\u001b[0m\u001b[0m\n",
      "\u001b[1;31mAttributeError\u001b[0m: module 'cv2.cv2' has no attribute 'imfilter'"
     ]
    }
   ],
   "source": [
    "import cv2\n",
    "img = cv2.imread('frame1.jpg',0);\n",
    "diffImage = cv2.imfilter(img, [1, -1]);\n",
    "imshow(diffImage, [])\n",
    "cv2.waitKey(0)"
   ]
  }
 ],
 "metadata": {
  "kernelspec": {
   "display_name": "Python 3",
   "language": "python",
   "name": "python3"
  },
  "language_info": {
   "codemirror_mode": {
    "name": "ipython",
    "version": 3
   },
   "file_extension": ".py",
   "mimetype": "text/x-python",
   "name": "python",
   "nbconvert_exporter": "python",
   "pygments_lexer": "ipython3",
   "version": "3.7.6"
  }
 },
 "nbformat": 4,
 "nbformat_minor": 4
}
